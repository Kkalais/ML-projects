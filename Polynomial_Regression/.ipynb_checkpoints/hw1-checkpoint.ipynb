{
 "cells": [
  {
   "cell_type": "markdown",
   "metadata": {},
   "source": [
    "<h1>Simple Regression from scratch</h1>\n",
    "<hr/>"
   ]
  },
  {
   "cell_type": "code",
   "execution_count": 2,
   "metadata": {
    "ExecuteTime": {
     "end_time": "2019-03-05T21:49:14.968995Z",
     "start_time": "2019-03-05T21:49:14.437616Z"
    }
   },
   "outputs": [
    {
     "name": "stdout",
     "output_type": "stream",
     "text": [
      "MSE: [0.00780106]\n",
      "R^2: [0.99638968]\n"
     ]
    },
    {
     "data": {
      "image/png": "[encoded data removed]",
      "text/plain": [
       "<Figure size 432x288 with 1 Axes>"
      ]
     },
     "metadata": {
      "needs_background": "light"
     },
     "output_type": "display_data"
    }
   ],
   "source": [
    "import sys\n",
    "import numpy as np\n",
    "import matplotlib.pyplot as plt\n",
    "\n",
    "\"\"\"\n",
    "    Polynomial Regression:\n",
    "        y = Xβ , β = (X.T* X)^-1 * (X.T * y) \n",
    "        X=[[1 x0 x0^2 .....]\n",
    "           [1 x1 x1^2 .....]\n",
    "           ....\n",
    "           [1 xn xn^2 .....]\n",
    "          ]\n",
    "\"\"\"\n",
    "\n",
    "# Plot the x,y with the predictions\n",
    "def graph_preds(x,y,predictions):\n",
    "    plt.title(\"Linear Regression on 2nd order polynomial fitting\")\n",
    "    real = plt.plot(x,y,'o',color='g', label=\"Real points\")\n",
    "    preds = plt.plot(x,predictions,color='r', label=\"Predictioned line\")\n",
    "    plt.xlabel(r'$x$')\n",
    "    plt.ylabel(r'$y$')\n",
    "    plt.legend(loc=\"upper right\")\n",
    "    plt.show()\n",
    "\n",
    "# Generate random x,y based on the below formula\n",
    "def dataset_generator(order):\n",
    "    x = np.random.rand(100,1)\n",
    "    y = 5*x*x + 0.1*np.random.randn(100,1)\n",
    "    x_data = []\n",
    "    for i in x:\n",
    "        new_row = []\n",
    "        for j in range(order+1):\n",
    "            new_row.append(pow(i,j))\n",
    "        x_data.append(new_row)\n",
    "    x_data = np.array(x_data)\n",
    "    x_data = np.reshape(x_data, (x_data.shape[0],x_data.shape[1]))\n",
    "    return np.array(x_data),x,y\n",
    "\n",
    "#Inverse given matrix\n",
    "def inverse(x):\n",
    "    return(np.linalg.inv(x))\n",
    "\n",
    "#Find the β for the polynomial regression\n",
    "def slope(x,y):\n",
    "    \n",
    "    #Transpose X\n",
    "    transposed_x = x.T\n",
    "    \n",
    "    # X.T * X\n",
    "    first_part = np.dot(transposed_x,x)\n",
    "    \n",
    "    # (X.T * X)^-1\n",
    "    first_part  = inverse(first_part)\n",
    "    \n",
    "    #X.T *y\n",
    "    second_part = np.dot(transposed_x,y)\n",
    "    return first_part.dot(second_part)\n",
    "\n",
    "#Calculate the Mean Squared Error(MSE)\n",
    "def MSE_error(y,y_pred):\n",
    "    n = len(y)\n",
    "    sum_MSE = 0\n",
    "    for i in range(n):\n",
    "        sum_MSE += (y[i]-y_pred[i])**2\n",
    "    return sum_MSE / n\n",
    "\n",
    "#Calculate the score\n",
    "def Rsqr_error(y,y_pred):\n",
    "    n = len(y)\n",
    "    sum1 = 0\n",
    "    for i in range(n):\n",
    "        sum1 += pow(y[i]-y_pred[i],2)\n",
    "    sum2 = 0\n",
    "    for i in range(n):\n",
    "        sum2 += pow(y[i]-np.mean(y),2)\n",
    "    return 1 - sum1/sum2\n",
    "\n",
    "#Sort the list for the plot\n",
    "def sort_n_keep_indexes(list1):\n",
    "    tuple_list = []\n",
    "    for i in range(len(list1)):\n",
    "        tuple_list.append((list1[i],i))\n",
    "\n",
    "    tuple_list = sorted(tuple_list, key= lambda x: x[0])\n",
    "    index_list = []\n",
    "    list1 = []\n",
    "    for i in tuple_list:\n",
    "        (a,b) = i \n",
    "        list1.append(a)\n",
    "        index_list.append(b)\n",
    "    return(list1,index_list)\n",
    "\n",
    "#Sort the list for the plot\n",
    "def sort_based_on_index(list1, indexes):\n",
    "    temp = []\n",
    "    for i in indexes:\n",
    "        temp.append(list1[i])\n",
    "    return temp\n",
    "\n",
    "\n",
    "def minimize_Qb(x,points,y):\n",
    "    \n",
    "    #Find the slope\n",
    "    b = slope(x,y)\n",
    "    \n",
    "    #Make the predictions\n",
    "    y_pred = x.dot(b) \n",
    "    return np.array(y_pred)\n",
    "\n",
    "#Train the models and make the predictions\n",
    "(feat,x,lab) = dataset_generator(2) \n",
    "preds = minimize_Qb(feat,x,lab)\n",
    "\n",
    "#Print out the error\n",
    "print(\"MSE: \" + str(MSE_error(lab,preds)))\n",
    "print(\"R^2: \" + str(Rsqr_error(lab,preds)))\n",
    "\n",
    "#Sort the points and make the graph\n",
    "(x, indexes) = sort_n_keep_indexes(x)\n",
    "lab = sort_based_on_index(lab, indexes)\n",
    "preds = sort_based_on_index(preds, indexes)\n",
    "graph_preds(x,lab,preds)"
   ]
  },
  {
   "cell_type": "markdown",
   "metadata": {},
   "source": [
    "<h1>Simple Regression using scikit-learn library</h1>\n",
    "<hr/>"
   ]
  },
  {
   "cell_type": "code",
   "execution_count": 4,
   "metadata": {
    "ExecuteTime": {
     "end_time": "2019-03-05T21:43:22.910186Z",
     "start_time": "2019-03-05T21:43:22.670016Z"
    }
   },
   "outputs": [
    {
     "name": "stdout",
     "output_type": "stream",
     "text": [
      "MSE: 0.012615179041163336\n",
      "R^2: 0.9948757328931773\n"
     ]
    },
    {
     "data": {
      "image/png": "[encoded data removed]",
      "text/plain": [
       "<Figure size 432x288 with 1 Axes>"
      ]
     },
     "metadata": {
      "needs_background": "light"
     },
     "output_type": "display_data"
    }
   ],
   "source": [
    "import matplotlib.pyplot as plt\n",
    "import numpy as np\n",
    "import random\n",
    "from sklearn.preprocessing import PolynomialFeatures\n",
    "from sklearn.linear_model import LinearRegression\n",
    "from sklearn.metrics import mean_squared_error, r2_score\n",
    "import operator\n",
    "\n",
    "#Generate random points with noise\n",
    "m=100\n",
    "x =np.random.rand(m,1)\n",
    "y =5*x*x+0.1*np.random.randn(m,1)\n",
    "\n",
    "#Define the degree of output function\n",
    "polynomial_features= PolynomialFeatures(degree=2)\n",
    "x_poly = polynomial_features.fit_transform(x)\n",
    "\n",
    "#Create the model and predict\n",
    "model = LinearRegression()\n",
    "model.fit(x_poly, y)\n",
    "y_poly_pred = model.predict(x_poly)\n",
    "\n",
    "#Calculate the two types of error\n",
    "mse = mean_squared_error(y,y_poly_pred)\n",
    "r2 = r2_score(y,y_poly_pred)\n",
    "print(\"MSE: \"+str(mse))\n",
    "print(\"R^2: \"+str(r2))\n",
    "\n",
    "#Plot the points \n",
    "plt.scatter(x, y ,color='green',label=\"Real points\")\n",
    "\n",
    "# sort the values of x before line plot\n",
    "sort_axis = operator.itemgetter(0)\n",
    "sorted_zip = sorted(zip(x,y_poly_pred), key=sort_axis)\n",
    "x, y_poly_pred = zip(*sorted_zip)\n",
    "\n",
    "#Plot the predicted ones\n",
    "plt.plot(x, y_poly_pred, color='r',label=\"Predictioned line\")\n",
    "plt.title(\"Linear Regression on 2nd order polynomial fitting\")\n",
    "plt.xlabel(r'$x$')\n",
    "plt.ylabel(r'$y$')\n",
    "plt.legend(loc=\"upper right\")\n",
    "plt.show()"
   ]
  }
 ],
 "metadata": {
  "kernelspec": {
   "display_name": "Python 3",
   "language": "python",
   "name": "python3"
  },
  "language_info": {
   "codemirror_mode": {
    "name": "ipython",
    "version": 3
   },
   "file_extension": ".py",
   "mimetype": "text/x-python",
   "name": "python",
   "nbconvert_exporter": "python",
   "pygments_lexer": "ipython3",
   "version": "3.7.3"
  },
  "latex_envs": {
   "LaTeX_envs_menu_present": true,
   "autoclose": false,
   "autocomplete": true,
   "bibliofile": "biblio.bib",
   "cite_by": "apalike",
   "current_citInitial": 1,
   "eqLabelWithNumbers": true,
   "eqNumInitial": 1,
   "hotkeys": {
    "equation": "Ctrl-E",
    "itemize": "Ctrl-I"
   },
   "labels_anchors": false,
   "latex_user_defs": false,
   "report_style_numbering": false,
   "user_envs_cfg": false
  },
  "toc": {
   "base_numbering": 1,
   "nav_menu": {},
   "number_sections": true,
   "sideBar": true,
   "skip_h1_title": false,
   "title_cell": "Table of Contents",
   "title_sidebar": "Contents",
   "toc_cell": false,
   "toc_position": {},
   "toc_section_display": true,
   "toc_window_display": false
  },
  "varInspector": {
   "cols": {
    "lenName": 16,
    "lenType": 16,
    "lenVar": 40
   },
   "kernels_config": {
    "python": {
     "delete_cmd_postfix": "",
     "delete_cmd_prefix": "del ",
     "library": "var_list.py",
     "varRefreshCmd": "print(var_dic_list())"
    },
    "r": {
     "delete_cmd_postfix": ") ",
     "delete_cmd_prefix": "rm(",
     "library": "var_list.r",
     "varRefreshCmd": "cat(var_dic_list()) "
    }
   },
   "types_to_exclude": [
    "module",
    "function",
    "builtin_function_or_method",
    "instance",
    "_Feature"
   ],
   "window_display": false
  }
 },
 "nbformat": 4,
 "nbformat_minor": 2
}
