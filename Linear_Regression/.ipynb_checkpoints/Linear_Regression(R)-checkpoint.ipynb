{
 "cells": [
  {
   "cell_type": "code",
   "execution_count": 5,
   "metadata": {
    "ExecuteTime": {
     "end_time": "2019-02-22T10:30:54.534154Z",
     "start_time": "2019-02-22T10:30:54.192Z"
    },
    "collapsed": true
   },
   "outputs": [
    {
     "name": "stdout",
     "output_type": "stream",
     "text": [
      "[1] \"RMSE:  0.0750021695268423\"\n"
     ]
    },
    {
     "data": {
      "image/png": "[encoded data removed]",
      "text/plain": [
       "plot without title"
      ]
     },
     "metadata": {},
     "output_type": "display_data"
    }
   ],
   "source": [
    "#Turn dataframe to array\n",
    "turnToArray <- function(DF){\n",
    "  return(data.matrix(DF))\n",
    "}\n",
    "\n",
    "#Calculate the variance of a list of numbers\n",
    "variance <- function(values,mean_val){\n",
    "  result <-0\n",
    "  for(x in values){\n",
    "    result<-result + (x-mean_val)**2\n",
    "  }\n",
    "  return(result)\n",
    "}\n",
    "\n",
    "#Calculate the covariance from two groups of numbers\n",
    "#Covariance --> describes how those numbers change together\n",
    "covariance <- function(values_x,values_y,mean_x,mean_y){\n",
    "  if(length(values_x)!=length(values_y)){\n",
    "    stop(\"Groups must have same dimension.\")\n",
    "  }\n",
    "  result<-0\n",
    "  for(i in 1:length(values_x)){\n",
    "    result <- result + (values_x[i]-mean_x) * (values_y[i]-mean_y)\n",
    "  }\n",
    "  return(result)\n",
    "}\n",
    "\n",
    "#Calculate coefficients\n",
    "coefficients<- function(dataset){\n",
    "  xData<-c()\n",
    "  yData<-c()\n",
    "  \n",
    "  #Split dataset to x,y\n",
    "  for(i in 1:length(dataset)){\n",
    "    xData<-c(xData,dataset[[i]][[1]])\n",
    "    yData<-c(yData,dataset[[i]][[2]])\n",
    "  }\n",
    "  \n",
    "  b1=covariance(xData,yData,mean(xData),mean(yData)) / variance(xData,mean(xData))\n",
    "  b0=mean(yData) - b1 * mean(xData)\n",
    "  \n",
    "  return(c(b0,b1))\n",
    "}\n",
    "\n",
    "#Linear regression algorithm and testing\n",
    "simple_linear_regression<-function(train,test){\n",
    "  predictions<-list()\n",
    "  args<- coefficients(train)\n",
    "  \n",
    "  #Get the b0,b1\n",
    "  b0<-args[1]\n",
    "  b1<-args[2]\n",
    "  \n",
    "  for(i in test){\n",
    "    yPred<- b0 + b1*i\n",
    "    predictions<-append(predictions,yPred)\n",
    "  }\n",
    "  return(predictions)\n",
    "}\n",
    "\n",
    "evaluate_algorithm<- function(dataset,split){\n",
    "  #Split the dataset\n",
    "  train_set<-list()\n",
    "  train_size <- as.integer(split *length(dataset))\n",
    "  while(length(train_set) <train_size){\n",
    "    random_index=as.integer(runif(1,1,length(dataset)))\n",
    "    train_set<-append(train_set,dataset[random_index])\n",
    "    dataset<-dataset[-random_index]\n",
    "  }\n",
    "  \n",
    "  #Get from test the values,targets\n",
    "  test_x <- list()\n",
    "  test_y <- list()\n",
    "  \n",
    "  for(i in 1:length(dataset)){\n",
    "    test_x<-append(test_x,dataset[[i]][[1]])\n",
    "    test_y<-append(test_y,dataset[[i]][[2]])\n",
    "  }\n",
    "  \n",
    "  #Linear regression\n",
    "  predictions <-simple_linear_regression(train_set,test_x)\n",
    "  \n",
    "  #Plot the lines\n",
    "  plot(test_x,test_y)\n",
    "  lines(test_x,predictions)\n",
    "  \n",
    "  #Calculate the error\n",
    "  rsme_error <- rmse_metric(test_y,predictions)\n",
    "  return(rsme_error)\n",
    "}\n",
    "\n",
    "#Calculate the root mean square error\n",
    "rmse_metric<-function(y,predictions){\n",
    "  sum_error<-0.0\n",
    "  \n",
    "  if(length(y)!=length(predictions)){\n",
    "    stop(\"Groups must have same dimensions.\")\n",
    "  }\n",
    "  \n",
    "  for(i in 1:length(y)){\n",
    "    pred_err<-y[[i]]-predictions[[i]]\n",
    "    sum_error<- sum_error + pred_err**2\n",
    "  }\n",
    "  mean_error = sum_error/length(y)\n",
    "  return(sqrt(mean_error))\n",
    "}\n",
    "\n",
    "#Read from csv\n",
    "#setwd(\"C:/Users/kkalais/Desktop/ML/Lab1\")\n",
    "MyData <- read.csv(file=\"day.csv\")\n",
    "\n",
    "#Turn feature to arrays\n",
    "first_feature <- turnToArray(MyData['temp'])\n",
    "sec_feature <- turnToArray((MyData['windspeed']))\n",
    "\n",
    "#Create the dataset\n",
    "split<-0.8\n",
    "dataset<-list()\n",
    "for(i in 1:length(first_feature)){\n",
    "  dataset[[i]]<-c(first_feature[i],sec_feature[i])\n",
    "}\n",
    "\n",
    "error<-evaluate_algorithm(dataset,split)\n",
    "print(paste(\"RMSE: \",error))"
   ]
  }
 ],
 "metadata": {
  "kernelspec": {
   "display_name": "R",
   "language": "R",
   "name": "ir"
  },
  "language_info": {
   "codemirror_mode": "r",
   "file_extension": ".r",
   "mimetype": "text/x-r-source",
   "name": "R",
   "pygments_lexer": "r",
   "version": "3.5.1"
  },
  "latex_envs": {
   "LaTeX_envs_menu_present": true,
   "autoclose": false,
   "autocomplete": true,
   "bibliofile": "biblio.bib",
   "cite_by": "apalike",
   "current_citInitial": 1,
   "eqLabelWithNumbers": true,
   "eqNumInitial": 1,
   "hotkeys": {
    "equation": "Ctrl-E",
    "itemize": "Ctrl-I"
   },
   "labels_anchors": false,
   "latex_user_defs": false,
   "report_style_numbering": false,
   "user_envs_cfg": false
  },
  "toc": {
   "base_numbering": 1,
   "nav_menu": {},
   "number_sections": true,
   "sideBar": true,
   "skip_h1_title": false,
   "title_cell": "Table of Contents",
   "title_sidebar": "Contents",
   "toc_cell": false,
   "toc_position": {},
   "toc_section_display": true,
   "toc_window_display": false
  },
  "varInspector": {
   "cols": {
    "lenName": 16,
    "lenType": 16,
    "lenVar": 40
   },
   "kernels_config": {
    "python": {
     "delete_cmd_postfix": "",
     "delete_cmd_prefix": "del ",
     "library": "var_list.py",
     "varRefreshCmd": "print(var_dic_list())"
    },
    "r": {
     "delete_cmd_postfix": ") ",
     "delete_cmd_prefix": "rm(",
     "library": "var_list.r",
     "varRefreshCmd": "cat(var_dic_list()) "
    }
   },
   "types_to_exclude": [
    "module",
    "function",
    "builtin_function_or_method",
    "instance",
    "_Feature"
   ],
   "window_display": false
  }
 },
 "nbformat": 4,
 "nbformat_minor": 2
}
