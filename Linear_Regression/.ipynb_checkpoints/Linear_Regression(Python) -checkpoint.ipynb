{
 "cells": [
  {
   "cell_type": "code",
   "execution_count": 1,
   "metadata": {
    "ExecuteTime": {
     "end_time": "2019-02-21T20:48:28.490875Z",
     "start_time": "2019-02-21T20:48:27.917469Z"
    }
   },
   "outputs": [
    {
     "data": {
      "text/plain": [
       "<Figure size 640x480 with 1 Axes>"
      ]
     },
     "metadata": {},
     "output_type": "display_data"
    },
    {
     "name": "stdout",
     "output_type": "stream",
     "text": [
      "RMSE: 0.186\n"
     ]
    }
   ],
   "source": [
    "import sys\n",
    "import numpy as np \n",
    "import matplotlib.pyplot as plt\n",
    "import pandas as pd\n",
    "from math import sqrt\n",
    "from random import seed\n",
    "from random import randrange\n",
    "\n",
    "\"\"\"\n",
    "    Linear Regression : \n",
    "        B1 = covariance(x,y) / variance(x)\n",
    "        B0 = mean(y) - B1*mean(x)\n",
    "    Equation:\n",
    "        y= B0 +B1*x\n",
    "\"\"\"\n",
    "#Calculate the mean value of a list of numbers\n",
    "def mean(values):\n",
    "    return( sum(values) / float(len(values)) )\n",
    "\n",
    "#Calculate the variance of a list of numbers\n",
    "def variance(values,mean_val):\n",
    "    result=0\n",
    "    for x in values:\n",
    "        result+= (x-mean_val)**2\n",
    "    return result\n",
    "    \n",
    "#Calculate the covariance from two groups of numbers\n",
    "#Covariance --> describes how those numbers change together\n",
    "def covariance(values_x,values_y,mean_x,mean_y):\n",
    "\n",
    "    if(len(values_x)!= len(values_y)):\n",
    "        print(\"Groups must have same dimensions.\")\n",
    "        sys.exit()\n",
    "    result=0\n",
    "    for i in range(len(values_x)):\n",
    "        result+= (values_x[i]-mean_x) * (values_y[i]-mean_y)\n",
    "    return result\n",
    "\n",
    "#Calculate coefficients\n",
    "def coefficients(dataset):\n",
    "    x = [row[0] for row in dataset]\n",
    "    y = [row[1] for row in dataset]\n",
    "    \n",
    "    mean_x, mean_y = mean(x), mean(y)\n",
    "\n",
    "    b1=covariance(x,y,mean_x,mean_y) / variance(x,mean_x)\n",
    "    b0=mean(y) - b1 * mean(x)\n",
    "\n",
    "    return [b0,b1]\n",
    "\n",
    "#Calculate the root mean square error\n",
    "def rmse_metric(y,predictions):\n",
    "    sum_error=0.0\n",
    "\n",
    "    if(len(y)!= len(predictions)):\n",
    "        print(\"Groups must have same dimensions.\")\n",
    "        sys.exit()\n",
    "    for i in range(0,len(y)):\n",
    "        pred_err = y[i] - predictions[i]\n",
    "        sum_error+= pred_err**2\n",
    "    mean_err = sum_error / float(len(y))\n",
    "    return sqrt(mean_err)\n",
    "\n",
    "#Linear regression algorithm and testing\n",
    "def simple_linear_regression(train,test):\n",
    "    predictions = list()\n",
    "    b0,b1=coefficients(train)\n",
    "\n",
    "    for i in test:\n",
    "        yPred = b0 + b1 *i\n",
    "        predictions.append(yPred)\n",
    "    return predictions   \n",
    "\n",
    "def evaluate_algorithm(dataset, split):\n",
    "    train, test = train_test_split(dataset, split)\n",
    "    test_set = list()\n",
    "    \n",
    "    for row in test:\n",
    "        test_set.append(row[0])\n",
    "\n",
    "    predicted = simple_linear_regression(train,test_set)\n",
    "    actual = [row[-1] for row in test]\n",
    "\n",
    "    plt.scatter(test_set,actual,color='green')\n",
    "    plt.plot(test_set,predicted,color='red')\n",
    "    plt.show()\n",
    "\n",
    "    rmse = rmse_metric(actual, predicted)\n",
    "    return rmse\n",
    "\n",
    "# Split a dataset into a train and test set\n",
    "def train_test_split(dataset, split):\n",
    "    train = list()\n",
    "    train_size = split * len(dataset)\n",
    "    dataset_copy = list(dataset)\n",
    "    while len(train) < train_size:\n",
    "        index = randrange(len(dataset_copy))\n",
    "        train.append(dataset_copy.pop(index))\n",
    "    return [train, dataset_copy]\n",
    "\n",
    "\n",
    "\"\"\"\n",
    "    Dataset:\n",
    "        http://archive.ics.uci.edu/ml/datasets/Bike+Sharing+Dataset\n",
    "\"\"\"\n",
    "seed(2) #for randrange\n",
    "data=pd.read_csv('day.csv')\n",
    "dataset=[]\n",
    "\n",
    "xVariable='windspeed'\n",
    "yVariable='temp'\n",
    "\n",
    "for i in range(len(data)):\n",
    "    dataset.append([data[xVariable][i],data[yVariable][i]])\n",
    "\n",
    "\n",
    "split = 0.8\n",
    "rmse = evaluate_algorithm(dataset,split)\n",
    "print('RMSE: %.3f' % (rmse))"
   ]
  }
 ],
 "metadata": {
  "kernelspec": {
   "display_name": "Python 3",
   "language": "python",
   "name": "python3"
  },
  "language_info": {
   "codemirror_mode": {
    "name": "ipython",
    "version": 3
   },
   "file_extension": ".py",
   "mimetype": "text/x-python",
   "name": "python",
   "nbconvert_exporter": "python",
   "pygments_lexer": "ipython3",
   "version": "3.7.3"
  },
  "latex_envs": {
   "LaTeX_envs_menu_present": true,
   "autoclose": false,
   "autocomplete": true,
   "bibliofile": "biblio.bib",
   "cite_by": "apalike",
   "current_citInitial": 1,
   "eqLabelWithNumbers": true,
   "eqNumInitial": 1,
   "hotkeys": {
    "equation": "Ctrl-E",
    "itemize": "Ctrl-I"
   },
   "labels_anchors": false,
   "latex_user_defs": false,
   "report_style_numbering": false,
   "user_envs_cfg": false
  },
  "toc": {
   "base_numbering": 1,
   "nav_menu": {},
   "number_sections": true,
   "sideBar": true,
   "skip_h1_title": false,
   "title_cell": "Table of Contents",
   "title_sidebar": "Contents",
   "toc_cell": false,
   "toc_position": {},
   "toc_section_display": true,
   "toc_window_display": false
  },
  "varInspector": {
   "cols": {
    "lenName": 16,
    "lenType": 16,
    "lenVar": 40
   },
   "kernels_config": {
    "python": {
     "delete_cmd_postfix": "",
     "delete_cmd_prefix": "del ",
     "library": "var_list.py",
     "varRefreshCmd": "print(var_dic_list())"
    },
    "r": {
     "delete_cmd_postfix": ") ",
     "delete_cmd_prefix": "rm(",
     "library": "var_list.r",
     "varRefreshCmd": "cat(var_dic_list()) "
    }
   },
   "types_to_exclude": [
    "module",
    "function",
    "builtin_function_or_method",
    "instance",
    "_Feature"
   ],
   "window_display": false
  }
 },
 "nbformat": 4,
 "nbformat_minor": 2
}
